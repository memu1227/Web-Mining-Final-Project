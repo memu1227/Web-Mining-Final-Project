{
 "cells": [
  {
   "cell_type": "code",
   "execution_count": null,
   "metadata": {},
   "outputs": [],
   "source": [
    "import pandas as pd\n",
    "import re\n",
    "from nltk.corpus import stopwords\n",
    "from sklearn.feature_extraction.text import TfidfVectorizer\n",
    "from sklearn.metrics.pairwise import linear_kernel\n"
   ]
  },
  {
   "cell_type": "code",
   "execution_count": null,
   "metadata": {},
   "outputs": [],
   "source": [
    "\n",
    "# Specify the path to the CSV file\n",
    "data_path = 'Womens Clothing E-Commerce Reviews.csv'\n",
    "\n",
    "# Read the CSV file into a DataFrame\n",
    "df = pd.read_csv(data_path)\n"
   ]
  },
  {
   "cell_type": "code",
   "execution_count": null,
   "metadata": {},
   "outputs": [],
   "source": [
    "\n",
    "# Extract relevant columns for sentiment analysis and recommendation\n",
    "columns_to_extract = ['Clothing ID', 'Review Text', 'Rating', 'Division Name', 'Class Name', 'Department Name']\n",
    "data = df[columns_to_extract]\n",
    "\n",
    "# Drop rows with null values in 'Review Text' and specific columns\n",
    "columns_to_dropna = ['Review Text', 'Division Name', 'Class Name', 'Department Name']\n",
    "data = data.dropna(subset=columns_to_dropna)\n",
    "\n",
    "data.head()\n"
   ]
  },
  {
   "cell_type": "code",
   "execution_count": null,
   "metadata": {},
   "outputs": [],
   "source": [
    "\n",
    "# Perform sentiment analysis (example: assuming ratings 4 and 5 are positive sentiment)\n",
    "data['Sentiment'] = data['Rating'].apply(lambda x: 1 if x >= 4 else 0)\n"
   ]
  },
  {
   "cell_type": "code",
   "execution_count": null,
   "metadata": {},
   "outputs": [],
   "source": [
    "\n",
    "\n",
    "# Check unique values in 'Rating' column\n",
    "print(\"Unique values in 'Rating' column:\", data['Rating'].unique())\n"
   ]
  },
  {
   "cell_type": "code",
   "execution_count": null,
   "metadata": {},
   "outputs": [],
   "source": [
    "\n",
    "# Preprocess the text data\n",
    "def preprocess_text(text):\n",
    "    # Remove special characters, numbers, and punctuation\n",
    "    text = re.sub(r'[^A-Za-z\\s]', '', text)\n",
    "    # Convert to lowercase\n",
    "    text = text.lower()\n",
    "    # Remove stopwords\n",
    "    stop_words = set(stopwords.words('english'))\n",
    "    text = ' '.join([word for word in text.split() if word not in stop_words])\n",
    "    return text\n",
    "\n",
    "data['Processed_Text'] = data['Review Text'].apply(preprocess_text)\n",
    "data.head()\n"
   ]
  },
  {
   "cell_type": "code",
   "execution_count": null,
   "metadata": {},
   "outputs": [],
   "source": [
    "\n",
    "# TF-IDF Vectorization of the processed text\n",
    "tfidf_vectorizer = TfidfVectorizer(stop_words='english')\n",
    "tfidf_matrix = tfidf_vectorizer.fit_transform(data['Processed_Text'])\n"
   ]
  },
  {
   "cell_type": "code",
   "execution_count": null,
   "metadata": {},
   "outputs": [],
   "source": [
    "# Print the shape of the TF-IDF matrix\n",
    "print(\"TF-IDF Matrix Shape:\", tfidf_matrix.shape)\n",
    "\n",
    "# Print the vocabulary (mapping of terms to feature indices)\n",
    "print(\"Vocabulary:\")\n",
    "print(tfidf_vectorizer.vocabulary_)\n",
    "\n",
    "# Print the first few elements of the TF-IDF matrix\n",
    "print(\"First Few Elements of TF-IDF Matrix:\")\n",
    "print(tfidf_matrix[:5, :])  # Adjust the indices as needed"
   ]
  },
  {
   "cell_type": "code",
   "execution_count": null,
   "metadata": {},
   "outputs": [],
   "source": [
    "\n",
    "# Calculate cosine similarity between documents\n",
    "cosine_sim = linear_kernel(tfidf_matrix, tfidf_matrix)\n"
   ]
  },
  {
   "cell_type": "code",
   "execution_count": null,
   "metadata": {},
   "outputs": [],
   "source": [
    "# Print the results \n",
    "print(\"Cosine Similarity Matrix:\")\n",
    "print(cosine_sim[:5, :5])  # Adjust the indices as needed"
   ]
  },
  {
   "cell_type": "code",
   "execution_count": null,
   "metadata": {},
   "outputs": [],
   "source": [
    "\n",
    "# Display the range of valid Clothing IDs\n",
    "min_clothing_id = data['Clothing ID'].min()\n",
    "max_clothing_id = data['Clothing ID'].max()\n",
    "print(f\"Valid Clothing ID range: {min_clothing_id} to {max_clothing_id}\")\n"
   ]
  },
  {
   "cell_type": "code",
   "execution_count": null,
   "metadata": {},
   "outputs": [],
   "source": [
    "# Function to get recommendations based on similar clothing within the same division, class, and department\n",
    "def get_recommendations(clothing_id, sentiment_threshold=0.5, min_avg_rating=4, top_n=5):\n",
    "    # Check if the specified Clothing ID exists in the dataset\n",
    "    if clothing_id not in data['Clothing ID'].values:\n",
    "        print(f\"Clothing ID {clothing_id} does not exist in the dataset.\")\n",
    "        return pd.DataFrame({'Clothing ID': [], 'Review Text': [], 'Rating': []})\n",
    "\n",
    "    # Get division, class, and department for the specified Clothing ID\n",
    "    division_name = data[data['Clothing ID'] == clothing_id]['Division Name'].iloc[0]\n",
    "    class_name = data[data['Clothing ID'] == clothing_id]['Class Name'].iloc[0]\n",
    "    department_name = data[data['Clothing ID'] == clothing_id]['Department Name'].iloc[0]\n",
    "\n",
    "\n",
    "    # Filter data based on similar division, class, and department with positive sentiment\n",
    "    similar_items = data[\n",
    "        (data['Division Name'] == division_name) &\n",
    "        (data['Class Name'] == class_name) &\n",
    "        (data['Department Name'] == department_name) &\n",
    "        (data['Sentiment'] >= sentiment_threshold)\n",
    "    ]\n",
    "\n",
    "    similar_items = similar_items[similar_items['Clothing ID'] != clothing_id]\n",
    "\n",
    "    # Check if there are any similar items\n",
    "    if not similar_items.empty:\n",
    "        # Calculate the average rating\n",
    "        avg_rating = similar_items['Rating'].mean()\n",
    "\n",
    "        # Only proceed if the average rating is 4 or above\n",
    "        if avg_rating >= min_avg_rating:\n",
    "            # Calculate a combined score based on sentiment and rating (you can customize the weights)\n",
    "            similar_items['Combined_Score'] = sentiment_threshold * similar_items['Sentiment'] + (1 - sentiment_threshold) * similar_items['Rating']\n",
    "\n",
    "            # Sort by the combined score\n",
    "            similar_items = similar_items.sort_values(by='Combined_Score', ascending=False)\n",
    "\n",
    "            # Get top N recommendations\n",
    "            top_recommendations = similar_items.head(top_n).drop_duplicates(subset=['Clothing ID'])\n",
    "\n",
    "            return top_recommendations[['Clothing ID', 'Review Text', 'Rating', 'Sentiment', 'Combined_Score']]\n",
    "        else:\n",
    "            print(f\"The average rating for similar items is below {min_avg_rating}. No recommendations.\")\n",
    "            return pd.DataFrame({'Clothing ID': [], 'Review Text': [], 'Rating': [], 'Sentiment': [], 'Combined_Score': []})\n",
    "    else:\n",
    "        print(\"No similar items found.\")\n",
    "        return pd.DataFrame({'Clothing ID': [], 'Review Text': [], 'Rating': [], 'Sentiment': [], 'Combined_Score': []})\n"
   ]
  },
  {
   "cell_type": "code",
   "execution_count": null,
   "metadata": {},
   "outputs": [],
   "source": [
    "\n",
    "# User input for clothing ID\n",
    "user_input_id = int(input(f\"Enter a Clothing ID within the range {min_clothing_id} to {max_clothing_id}: \"))\n",
    "\n",
    "# Example: Get recommendations based on user input\n",
    "recommendations = get_recommendations(user_input_id)\n",
    "if not recommendations.empty:\n",
    "    print(f\"Recommendations for Similar Clothing to Product {user_input_id}:\\n\")\n",
    "    print(recommendations)\n",
    "else:\n",
    "    print(f\"No similar clothing found for Product {user_input_id}.\")\n"
   ]
  },
  {
   "cell_type": "code",
   "execution_count": null,
   "metadata": {},
   "outputs": [],
   "source": []
  }
 ],
 "metadata": {
  "kernelspec": {
   "display_name": "Python 3 (ipykernel)",
   "language": "python",
   "name": "python3"
  },
  "language_info": {
   "codemirror_mode": {
    "name": "ipython",
    "version": 3
   },
   "file_extension": ".py",
   "mimetype": "text/x-python",
   "name": "python",
   "nbconvert_exporter": "python",
   "pygments_lexer": "ipython3",
   "version": "3.11.5"
  }
 },
 "nbformat": 4,
 "nbformat_minor": 4
}
