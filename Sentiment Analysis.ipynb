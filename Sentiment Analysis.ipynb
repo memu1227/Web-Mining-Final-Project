{
 "cells": [
  {
   "cell_type": "code",
   "execution_count": null,
   "metadata": {},
   "outputs": [],
   "source": [
    "import pandas as pd\n",
    "from textblob import TextBlob\n"
   ]
  },
  {
   "cell_type": "code",
   "execution_count": null,
   "metadata": {},
   "outputs": [],
   "source": [
    "\n",
    "# Specify the path to the CSV file\n",
    "data_path = 'Womens Clothing E-Commerce Reviews.csv'\n",
    "\n",
    "# Read the CSV file into a DataFrame\n",
    "df = pd.read_csv(data_path)\n"
   ]
  },
  {
   "cell_type": "code",
   "execution_count": null,
   "metadata": {},
   "outputs": [],
   "source": [
    "\n",
    "def textblob_analysis(reviews):\n",
    "\n",
    "    # Initialize empty lists\n",
    "    polarities = []\n",
    "    subjectivities = []\n",
    "    \n",
    "    # Iterate through reviews\n",
    "    for review in reviews:\n",
    "        \n",
    "        # Create TextBlob \n",
    "        blob = TextBlob(review)\n",
    "        \n",
    "        # Conduct analysis\n",
    "        polarity = blob.sentiment.polarity\n",
    "        subjectivity = blob.sentiment.subjectivity\n",
    "        \n",
    "        # Append scores\n",
    "        polarities.append(polarity)\n",
    "        subjectivities.append(subjectivity)\n",
    "\n",
    "    # Return lists of scores     \n",
    "    return polarities, subjectivities\n"
   ]
  },
  {
   "cell_type": "code",
   "execution_count": null,
   "metadata": {},
   "outputs": [],
   "source": [
    "\n",
    "# Sample dataframe\n",
    "reviews = pd.Series([\"Good product but it fades quickly.\", \"Bad service\", \"Okay I guess\"]) \n",
    "\n",
    "# Run analysis\n",
    "polarity_scores, subjectivity_scores = textblob_analysis(reviews)\n",
    "\n",
    "# View results\n",
    "print(\"The polarity of the reviews are:\",polarity_scores)\n",
    "print(\"The subjectivity of the reviews are:\",subjectivity_scores)"
   ]
  }
 ],
 "metadata": {
  "kernelspec": {
   "display_name": "Python 3",
   "language": "python",
   "name": "python3"
  },
  "language_info": {
   "codemirror_mode": {
    "name": "ipython",
    "version": 3
   },
   "file_extension": ".py",
   "mimetype": "text/x-python",
   "name": "python",
   "nbconvert_exporter": "python",
   "pygments_lexer": "ipython3",
   "version": "3.11.5"
  },
  "orig_nbformat": 4
 },
 "nbformat": 4,
 "nbformat_minor": 2
}
