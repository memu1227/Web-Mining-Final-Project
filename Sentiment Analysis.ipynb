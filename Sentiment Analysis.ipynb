{
 "cells": [
  {
   "cell_type": "code",
   "execution_count": 6,
   "metadata": {},
   "outputs": [],
   "source": [
    "import pandas as pd\n",
    "from textblob import TextBlob\n"
   ]
  },
  {
   "cell_type": "code",
   "execution_count": 7,
   "metadata": {},
   "outputs": [],
   "source": [
    "\n",
    "# Specify the path to the CSV file\n",
    "data_path = 'Womens Clothing E-Commerce Reviews.csv'\n",
    "\n",
    "# Read the CSV file into a DataFrame\n",
    "df = pd.read_csv(data_path)\n"
   ]
  },
  {
   "cell_type": "code",
   "execution_count": 8,
   "metadata": {},
   "outputs": [],
   "source": [
    "\n",
    "def textblob_analysis(reviews):\n",
    "\n",
    "    # Initialize empty lists\n",
    "    polarities = []\n",
    "    subjectivities = []\n",
    "    \n",
    "    # Iterate through reviews\n",
    "    for review in reviews:\n",
    "        \n",
    "        # Create TextBlob \n",
    "        blob = TextBlob(review)\n",
    "        \n",
    "        # Conduct analysis\n",
    "        polarity = blob.sentiment.polarity\n",
    "        subjectivity = blob.sentiment.subjectivity\n",
    "        \n",
    "        # Append scores\n",
    "        polarities.append(polarity)\n",
    "        subjectivities.append(subjectivity)\n",
    "\n",
    "    # Return lists of scores     \n",
    "    return polarities, subjectivities\n"
   ]
  },
  {
   "cell_type": "code",
   "execution_count": 9,
   "metadata": {},
   "outputs": [
    {
     "name": "stdout",
     "output_type": "stream",
     "text": [
      "The polarity of the reviews are: [0.5166666666666666, -0.6999999999999998, 0.5, 0.7]\n",
      "The subjectivity of the reviews are: [0.55, 0.6666666666666666, 0.5, 0.6000000000000001]\n"
     ]
    }
   ],
   "source": [
    "\n",
    "# Sample dataframe\n",
    "reviews = pd.Series([\"Good product but it fades quickly.\", \"Bad service\", \"Okay I guess\",\"\"\"I do not like this item,\n",
    "                      but my friend thinks it looks good on me, so I shall keep it.\"\"\"]) \n",
    "\n",
    "# Run analysis\n",
    "polarity_scores, subjectivity_scores = textblob_analysis(reviews)\n",
    "\n",
    "# View results\n",
    "print(\"The polarity of the reviews are:\",polarity_scores)\n",
    "print(\"The subjectivity of the reviews are:\",subjectivity_scores)"
   ]
  }
 ],
 "metadata": {
  "kernelspec": {
   "display_name": "Python 3",
   "language": "python",
   "name": "python3"
  },
  "language_info": {
   "codemirror_mode": {
    "name": "ipython",
    "version": 3
   },
   "file_extension": ".py",
   "mimetype": "text/x-python",
   "name": "python",
   "nbconvert_exporter": "python",
   "pygments_lexer": "ipython3",
   "version": "3.11.5"
  },
  "orig_nbformat": 4
 },
 "nbformat": 4,
 "nbformat_minor": 2
}
