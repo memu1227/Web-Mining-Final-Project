{
 "cells": [
  {
   "cell_type": "code",
   "execution_count": null,
   "id": "f60b565c-c5f5-4e5a-a374-217b984f7832",
   "metadata": {},
   "outputs": [],
   "source": [
    "# import packages\n",
    "import pandas as pd"
   ]
  },
  {
   "cell_type": "code",
   "execution_count": null,
   "id": "9397d42b-ffc1-43ed-a94a-10d2e0438f18",
   "metadata": {},
   "outputs": [],
   "source": [
    "#read in data\n",
    "df = pd.read_csv('Womens Clothing E-Commerce Reviews.csv')\n",
    "#look at dataset\n",
    "df.head()"
   ]
  },
  {
   "cell_type": "code",
   "execution_count": null,
   "id": "405828fb-16b2-4bd3-8f2c-ed15c1f82352",
   "metadata": {},
   "outputs": [],
   "source": [
    "# for recommender system, use the rating column and clothing id -> isolate rating column and clothing id column\n",
    "ratings = df[['Clothing ID','Rating']]\n",
    "#look at the rating\n",
    "ratings.head()\n"
   ]
  },
  {
   "cell_type": "code",
   "execution_count": null,
   "id": "e6761c0e-2e4d-4784-9b55-da6087b16533",
   "metadata": {},
   "outputs": [],
   "source": [
    "#Check to see all ratings for a specific clothing id\n",
    "target_clothing_id = 1104\n",
    "\n",
    "# Retrieve all ratings for the specified 'Clothing ID'\n",
    "ratings_for_clothing_id = ratings[ratings['Clothing ID'] == target_clothing_id]\n",
    "\n",
    "# Display the ratings for the specified 'Clothing ID'\n",
    "print(ratings_for_clothing_id)"
   ]
  },
  {
   "cell_type": "code",
   "execution_count": null,
   "id": "0dafbb90-53e4-45ca-84d8-df2352fa1cb8",
   "metadata": {},
   "outputs": [],
   "source": [
    "#get average rating based on the clothing id\n",
    "average_ratings = ratings.groupby('Clothing ID')['Rating'].mean()\n",
    "\n",
    "# Rename the columns in the output\n",
    "average_ratings = average_ratings.reset_index()  # Reset index to include 'Clothing ID' as a column\n",
    "average_ratings = average_ratings.rename(columns={'Clothing ID': 'Clothing_ID', 'Rating': 'Average_Rating'})\n",
    "\n",
    "# Print the average ratings \n",
    "print(f\"The average rating for a specific Clothing ID is: \\n{average_ratings}\")\n"
   ]
  },
  {
   "cell_type": "code",
   "execution_count": null,
   "id": "0e1a0182-86f7-4143-9f0d-0b230b2cdcb8",
   "metadata": {},
   "outputs": [],
   "source": [
    "# Get user input for a specific 'Clothing ID'\n",
    "clothing_id_input = input(\"Enter the Clothing ID you want to check: \")\n",
    "\n",
    "try:\n",
    "    clothing_id_input = int(clothing_id_input)\n",
    "    average_rating = average_ratings.loc[average_ratings['Clothing_ID'] == clothing_id_input, 'Average_Rating'].values\n",
    "\n",
    "    if len(average_rating) > 0:\n",
    "        average_rating = average_rating[0]\n",
    "        print(f\"The average rating for Clothing ID {clothing_id_input} is {average_rating:.2f}.\")\n",
    "\n",
    "        # Check if the average rating is 4 or higher\n",
    "        if average_rating >= 4:\n",
    "            print(\"Yes, you should consider buying it!\")\n",
    "        else:\n",
    "            print(\"No, you might want to reconsider.\")\n",
    "    else:\n",
    "        print(f\"Clothing ID {clothing_id_input} not found in the dataset.\")\n",
    "except ValueError:\n",
    "    print(\"Please enter a valid integer for Clothing ID.\")"
   ]
  }
 ],
 "metadata": {
  "kernelspec": {
   "display_name": "Python 3 (ipykernel)",
   "language": "python",
   "name": "python3"
  },
  "language_info": {
   "codemirror_mode": {
    "name": "ipython",
    "version": 3
   },
   "file_extension": ".py",
   "mimetype": "text/x-python",
   "name": "python",
   "nbconvert_exporter": "python",
   "pygments_lexer": "ipython3",
   "version": "3.11.5"
  }
 },
 "nbformat": 4,
 "nbformat_minor": 5
}
