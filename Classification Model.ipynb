{
 "cells": [
  {
   "cell_type": "code",
   "execution_count": null,
   "metadata": {},
   "outputs": [],
   "source": [
    "# Import Libraries\n",
    "import pandas as pd\n",
    "from sklearn.model_selection import train_test_split\n",
    "from sklearn.linear_model import LogisticRegression\n",
    "from sklearn.tree import DecisionTreeClassifier\n",
    "from sklearn.metrics import accuracy_score, classification_report, confusion_matrix, roc_curve, auc\n",
    "from sklearn.feature_extraction.text import TfidfVectorizer\n",
    "from sklearn import tree\n",
    "import matplotlib.pyplot as plt\n",
    "import seaborn as sns\n",
    "import numpy as np\n",
    "\n"
   ]
  },
  {
   "cell_type": "code",
   "execution_count": null,
   "metadata": {},
   "outputs": [],
   "source": [
    "\n",
    "# Load data\n",
    "df = pd.read_csv('Womens Clothing E-Commerce Reviews.csv')\n",
    "#df.head()\n"
   ]
  },
  {
   "cell_type": "code",
   "execution_count": null,
   "metadata": {},
   "outputs": [],
   "source": [
    "\n",
    "# Check for missing values in the 'Review Text' column\n",
    "missing_values = df['Review Text'].isnull().sum()\n",
    "if missing_values > 0:\n",
    "    df = df.dropna(subset=['Review Text'])  # Drop rows with missing values in 'Review Text'\n",
    "    print(f\"Dropped {missing_values} rows with missing 'Review Text' values.\")\n"
   ]
  },
  {
   "cell_type": "code",
   "execution_count": null,
   "metadata": {},
   "outputs": [],
   "source": [
    "\n",
    "# Define target variables\n",
    "X = df['Review Text']\n",
    "y = df['Recommended IND']\n",
    "\n",
    "# Split the data into training and testing sets\n",
    "X_train, X_test, y_train, y_test = train_test_split(X, y, test_size=0.2, random_state=42)\n"
   ]
  },
  {
   "cell_type": "code",
   "execution_count": null,
   "metadata": {},
   "outputs": [],
   "source": [
    "\n",
    "# Use TfidfVectorizer to convert text data into numerical features\n",
    "vectorizer = TfidfVectorizer(max_features=1000, stop_words='english')\n",
    "X_train_tfidf = vectorizer.fit_transform(X_train)\n",
    "X_test_tfidf = vectorizer.transform(X_test)\n"
   ]
  },
  {
   "cell_type": "code",
   "execution_count": null,
   "metadata": {},
   "outputs": [],
   "source": [
    "\n",
    "# Initialize and train a logistic regression model\n",
    "logistic_model = LogisticRegression()\n",
    "logistic_model.fit(X_train_tfidf, y_train)\n",
    "\n",
    "# Initialize and train a decision tree model\n",
    "decision_tree_model = DecisionTreeClassifier(random_state=42)\n",
    "decision_tree_model.fit(X_train_tfidf, y_train)\n"
   ]
  },
  {
   "cell_type": "code",
   "execution_count": null,
   "metadata": {},
   "outputs": [],
   "source": [
    "\n",
    "# Make predictions on the test set for both models\n",
    "logistic_predictions = logistic_model.predict(X_test_tfidf)\n",
    "decision_tree_predictions = decision_tree_model.predict(X_test_tfidf)\n",
    "\n",
    "# Get Probability estimates\n",
    "y_pred_proba_log = logistic_model.predict_proba(X_test_tfidf)[:,1]\n",
    "y_pred_proba_tree = decision_tree_model.predict_proba(X_test_tfidf)[:,1]\n",
    "\n",
    "# Calculate ROC curve for each model\n",
    "fpr_log, tpr_log, thresholds_log = roc_curve(y_test, y_pred_proba_log)\n",
    "fpr_tree, tpr_tree, thresholds_tree = roc_curve(y_test, y_pred_proba_tree)\n",
    "\n"
   ]
  },
  {
   "cell_type": "code",
   "execution_count": null,
   "metadata": {},
   "outputs": [],
   "source": [
    "# Plot both on same figure  \n",
    "fig, ax = plt.subplots(1, 2, figsize=(16, 8))\n",
    "\n",
    "ax[0].plot(fpr_log, tpr_log, label=\"Logistic\")\n",
    "ax[0].plot([0, 1], [0, 1], 'k--')\n",
    "ax[0].set_title('Logistic Regression')\n",
    "ax[0].legend(loc=\"lower right\")\n",
    "\n",
    "ax[1].plot(fpr_tree, tpr_tree, label=\"Decision Tree\")\n",
    "ax[1].plot([0, 1], [0, 1], 'k--')  \n",
    "ax[1].set_title('Decision Tree') \n",
    "ax[1].legend(loc=\"lower right\")\n",
    "\n",
    "fig.suptitle('ROC Curves', fontsize=20) \n"
   ]
  },
  {
   "cell_type": "code",
   "execution_count": null,
   "metadata": {},
   "outputs": [],
   "source": [
    "# Calculating optimum threshold for each ROC Curve\n",
    "# Calculate Youden's J statistic for each threshold\n",
    "youden_log = tpr_log - fpr_log\n",
    "youden_tree = tpr_tree - fpr_tree\n",
    "\n",
    "# Find the optimal threshold for each model\n",
    "optimal_threshold_log = thresholds_log[np.argmax(youden_log)]\n",
    "optimal_threshold_tree = thresholds_tree[np.argmax(youden_tree)]\n",
    "\n",
    "print(\"Optimal Threshold for Logistic Regression:\", optimal_threshold_log)\n",
    "print(\"Optimal Threshold for Decision Tree:\", optimal_threshold_tree)\n"
   ]
  },
  {
   "cell_type": "code",
   "execution_count": null,
   "metadata": {},
   "outputs": [],
   "source": [
    "\n",
    "# Evaluate the logistic regression model\n",
    "logistic_accuracy = accuracy_score(y_test, logistic_predictions)\n",
    "logistic_conf_matrix = confusion_matrix(y_test, logistic_predictions)\n",
    "logistic_class_report = classification_report(y_test, logistic_predictions)\n",
    "\n",
    "print(\"Logistic Regression Model:\")\n",
    "print(f'Accuracy: {logistic_accuracy:.2f}')\n",
    "print(f'Confusion Matrix:\\n{logistic_conf_matrix}')\n",
    "print(f'Classification Report:\\n{logistic_class_report}')\n"
   ]
  },
  {
   "cell_type": "code",
   "execution_count": null,
   "metadata": {},
   "outputs": [],
   "source": [
    "\n",
    "# Evaluate the decision tree model\n",
    "decision_tree_accuracy = accuracy_score(y_test, decision_tree_predictions)\n",
    "decision_tree_conf_matrix = confusion_matrix(y_test, decision_tree_predictions)\n",
    "decision_tree_class_report = classification_report(y_test, decision_tree_predictions)\n",
    "\n",
    "print(\"\\nDecision Tree Model:\")\n",
    "print(f'Accuracy: {decision_tree_accuracy:.2f}')\n",
    "print(f'Confusion Matrix:\\n{decision_tree_conf_matrix}')\n",
    "print(f'Classification Report:\\n{decision_tree_class_report}')\n"
   ]
  },
  {
   "cell_type": "code",
   "execution_count": null,
   "metadata": {},
   "outputs": [],
   "source": [
    "# Example prompt for testing the models\n",
    "prompt1 = [\"This is a great product! I highly recommend it.\"]\n",
    "prompt2 = [\"This is bad. I hate it.\"]\n",
    "\n",
    "# Transform the prompt using the TfidfVectorizer\n",
    "prompt1_tfidf = vectorizer.transform(prompt1)\n",
    "prompt2_tfidf = vectorizer.transform(prompt2)\n",
    "\n",
    "# Make predictions for both models and both prompts\n",
    "logistic_prediction1 = logistic_model.predict(prompt1_tfidf)\n",
    "decision_tree_prediction1= decision_tree_model.predict(prompt1_tfidf)\n",
    "\n",
    "logistic_prediction2 = logistic_model.predict(prompt2_tfidf)\n",
    "decision_tree_prediction2= decision_tree_model.predict(prompt2_tfidf)\n",
    "\n",
    "# Print the predictions\n",
    "print(\"Prompt 1: Logistic Regression Model Prediction:\", logistic_prediction1[0])\n",
    "print(\"Prompt 1: Decision Tree Model Prediction:\", decision_tree_prediction1[0])\n",
    "print(\"Prompt 2: Logistic Regression Model Prediction:\", logistic_prediction2[0])\n",
    "print(\"Prompt 2: Decision Tree Model Prediction:\", decision_tree_prediction2[0])\n",
    "\n"
   ]
  },
  {
   "cell_type": "code",
   "execution_count": null,
   "metadata": {},
   "outputs": [],
   "source": [
    "fig, axes = plt.subplots(1, 2, figsize=(12, 5))\n",
    "\n",
    "# Plot the first confusion matrix (Logistic Regression) in the first subplot\n",
    "confusion_matrix_log = pd.DataFrame(logistic_conf_matrix, index=[\"Actual Positive\", \"Actual Negative\"],\n",
    "                                    columns=[\"Predicted Positive\", \"Predicted Negative\"])\n",
    "sns.heatmap(confusion_matrix_log, annot=True, fmt=\"d\", ax=axes[0])\n",
    "\n",
    "# Add a title to the first subplot\n",
    "axes[0].set_title(\"Confusion Matrix - Logistic Regression\")\n",
    "\n",
    "# Plot the second confusion matrix (Decision Tree) in the second subplot\n",
    "confusion_matrix_dec = pd.DataFrame(decision_tree_conf_matrix, index=[\"Actual Positive\", \"Actual Negative\"],\n",
    "                                    columns=[\"Predicted Positive\", \"Predicted Negative\"])\n",
    "sns.heatmap(confusion_matrix_dec, annot=True, fmt=\"d\", ax=axes[1])\n",
    "\n",
    "# Add a title to the second subplot\n",
    "axes[1].set_title(\"Confusion Matrix - Decision Tree\")\n",
    "\n",
    "# Adjust layout for better spacing\n",
    "plt.tight_layout()\n",
    "\n",
    "# Show the plot\n",
    "plt.show()\n"
   ]
  },
  {
   "cell_type": "code",
   "execution_count": null,
   "metadata": {},
   "outputs": [],
   "source": [
    "# Model scores\n",
    "models = [\"Logistic\", \"Decision Tree\"]\n",
    "\n",
    "# Class 0 scores \n",
    "c0_precision = [0.76, 0.48] \n",
    "c0_recall = [0.53, 0.48]\n",
    "c0_accuracy = [0.53, 0.48]\n",
    "c0_f1 = [0.62, 0.48]  # Add F1 score\n",
    "c0_support = [812, 812]  # Add support\n",
    "\n",
    "# Class 1 scores\n",
    "c1_precision = [0.90, 0.89]  \n",
    "c1_recall = [0.96, 0.89] \n",
    "c1_accuracy = [0.96, 0.89]\n",
    "c1_f1 = [0.93, 0.89]  # Add F1 score\n",
    "c1_support = [3717, 3717]  # Add support\n",
    "\n",
    "# Create figure and axes\n",
    "fig, axs = plt.subplots(2, 3, figsize=(16, 10))\n",
    "\n",
    "# Precision plot \n",
    "axs[0, 0].bar(models, c0_precision, color='red')\n",
    "axs[0, 0].bar(models, c1_precision, bottom=c0_precision, color='green')\n",
    "axs[0, 0].set(ylabel=\"Precision\", title=\"Precision by Class\")\n",
    "axs[0, 0].legend(labels=[\"Class 0\", \"Class 1\"])\n",
    "\n",
    "# Recall plot\n",
    "axs[0, 1].bar(models, c0_recall, color='red') \n",
    "axs[0, 1].bar(models, c1_recall, bottom=c0_recall, color='green')\n",
    "axs[0, 1].set(ylabel=\"Recall\", title=\"Recall by Class\")\n",
    "\n",
    "# Accuracy plot \n",
    "axs[0, 2].bar(models, c0_accuracy, color='red')\n",
    "axs[0, 2].bar(models, c1_accuracy , bottom=c0_accuracy, color='green') \n",
    "axs[0, 2].set(ylabel=\"Accuracy\", title=\"Accuracy by Class\")\n",
    "\n",
    "# F1 Score plot\n",
    "axs[1, 0].bar(models, c0_f1, color='red')\n",
    "axs[1, 0].bar(models, c1_f1, bottom=c0_f1, color='green')\n",
    "axs[1, 0].set(ylabel=\"F1 Score\", title=\"F1 Score by Class\")\n",
    "\n",
    "# Support plot\n",
    "axs[1, 1].bar(models, c0_support, color='red')\n",
    "axs[1, 1].bar(models, c1_support, bottom=c0_support, color='green')\n",
    "axs[1, 1].set(ylabel=\"Support\", title=\"Support by Class\")\n",
    "\n",
    "# Empty plot for better layout\n",
    "axs[1, 2].axis('off')\n",
    "\n",
    "plt.tight_layout()\n",
    "plt.show()"
   ]
  }
 ],
 "metadata": {
  "kernelspec": {
   "display_name": "Python 3 (ipykernel)",
   "language": "python",
   "name": "python3"
  },
  "language_info": {
   "codemirror_mode": {
    "name": "ipython",
    "version": 3
   },
   "file_extension": ".py",
   "mimetype": "text/x-python",
   "name": "python",
   "nbconvert_exporter": "python",
   "pygments_lexer": "ipython3",
   "version": "3.11.5"
  }
 },
 "nbformat": 4,
 "nbformat_minor": 4
}
