{
 "cells": [
  {
   "cell_type": "code",
   "execution_count": null,
   "metadata": {},
   "outputs": [],
   "source": [
    "# Import Libraries\n",
    "import pandas as pd\n",
    "from sklearn.model_selection import train_test_split\n",
    "from sklearn.linear_model import LogisticRegression\n",
    "from sklearn.tree import DecisionTreeClassifier\n",
    "from sklearn.metrics import accuracy_score, classification_report, confusion_matrix\n",
    "from sklearn.feature_extraction.text import TfidfVectorizer\n"
   ]
  },
  {
   "cell_type": "code",
   "execution_count": null,
   "metadata": {},
   "outputs": [],
   "source": [
    "\n",
    "# Load data\n",
    "df = pd.read_csv('Womens Clothing E-Commerce Reviews.csv')\n",
    "df.head()\n"
   ]
  },
  {
   "cell_type": "code",
   "execution_count": null,
   "metadata": {},
   "outputs": [],
   "source": [
    "\n",
    "# Check for missing values in the 'Review Text' column\n",
    "missing_values = df['Review Text'].isnull().sum()\n",
    "if missing_values > 0:\n",
    "    df = df.dropna(subset=['Review Text'])  # Drop rows with missing values in 'Review Text'\n",
    "    print(f\"Dropped {missing_values} rows with missing 'Review Text' values.\")\n"
   ]
  },
  {
   "cell_type": "code",
   "execution_count": null,
   "metadata": {},
   "outputs": [],
   "source": [
    "\n",
    "# Define target variables\n",
    "X = df['Review Text']\n",
    "y = df['Recommended IND']\n",
    "\n",
    "# Split the data into training and testing sets\n",
    "X_train, X_test, y_train, y_test = train_test_split(X, y, test_size=0.2, random_state=42)\n"
   ]
  },
  {
   "cell_type": "code",
   "execution_count": null,
   "metadata": {},
   "outputs": [],
   "source": [
    "\n",
    "# Use TfidfVectorizer to convert text data into numerical features\n",
    "vectorizer = TfidfVectorizer(max_features=1000, stop_words='english')\n",
    "X_train_tfidf = vectorizer.fit_transform(X_train)\n",
    "X_test_tfidf = vectorizer.transform(X_test)\n"
   ]
  },
  {
   "cell_type": "code",
   "execution_count": null,
   "metadata": {},
   "outputs": [],
   "source": [
    "\n",
    "# Initialize and train a logistic regression model\n",
    "logistic_model = LogisticRegression()\n",
    "logistic_model.fit(X_train_tfidf, y_train)\n",
    "\n",
    "# Initialize and train a decision tree model\n",
    "decision_tree_model = DecisionTreeClassifier(random_state=42)\n",
    "decision_tree_model.fit(X_train_tfidf, y_train)\n"
   ]
  },
  {
   "cell_type": "code",
   "execution_count": null,
   "metadata": {},
   "outputs": [],
   "source": [
    "\n",
    "# Make predictions on the test set for both models\n",
    "logistic_predictions = logistic_model.predict(X_test_tfidf)\n",
    "decision_tree_predictions = decision_tree_model.predict(X_test_tfidf)\n",
    "\n",
    "# Evaluate the logistic regression model\n",
    "logistic_accuracy = accuracy_score(y_test, logistic_predictions)\n",
    "logistic_conf_matrix = confusion_matrix(y_test, logistic_predictions)\n",
    "logistic_class_report = classification_report(y_test, logistic_predictions)\n"
   ]
  },
  {
   "cell_type": "code",
   "execution_count": null,
   "metadata": {},
   "outputs": [],
   "source": [
    "\n",
    "print(\"Logistic Regression Model:\")\n",
    "print(f'Accuracy: {logistic_accuracy:.2f}')\n",
    "print(f'Confusion Matrix:\\n{logistic_conf_matrix}')\n",
    "print(f'Classification Report:\\n{logistic_class_report}')\n",
    "\n",
    "# Evaluate the decision tree model\n",
    "decision_tree_accuracy = accuracy_score(y_test, decision_tree_predictions)\n",
    "decision_tree_conf_matrix = confusion_matrix(y_test, decision_tree_predictions)\n",
    "decision_tree_class_report = classification_report(y_test, decision_tree_predictions)\n",
    "\n",
    "print(\"\\nDecision Tree Model:\")\n",
    "print(f'Accuracy: {decision_tree_accuracy:.2f}')\n",
    "print(f'Confusion Matrix:\\n{decision_tree_conf_matrix}')\n",
    "print(f'Classification Report:\\n{decision_tree_class_report}')\n"
   ]
  },
  {
   "cell_type": "code",
   "execution_count": null,
   "metadata": {},
   "outputs": [],
   "source": [
    "# Example prompt for testing the models\n",
    "prompt1 = [\"This is a great product! I highly recommend it.\"]\n",
    "prompt2 = [\"This is bad. I hate it.\"]\n",
    "\n",
    "# Transform the prompt using the TfidfVectorizer\n",
    "prompt1_tfidf = vectorizer.transform(prompt1)\n",
    "prompt2_tfidf = vectorizer.transform(prompt2)\n",
    "\n",
    "# Make predictions for both models and both prompts\n",
    "logistic_prediction1 = logistic_model.predict(prompt1_tfidf)\n",
    "decision_tree_prediction1= decision_tree_model.predict(prompt1_tfidf)\n",
    "\n",
    "logistic_prediction2 = logistic_model.predict(prompt2_tfidf)\n",
    "decision_tree_prediction2= decision_tree_model.predict(prompt2_tfidf)\n",
    "\n",
    "# Print the predictions\n",
    "print(\"Prompt 1: Logistic Regression Model Prediction:\", logistic_prediction1[0])\n",
    "print(\"Prompt 1: Decision Tree Model Prediction:\", decision_tree_prediction1[0])\n",
    "print(\"Prompt 2: Logistic Regression Model Prediction:\", logistic_prediction2[0])\n",
    "print(\"Prompt 2: Decision Tree Model Prediction:\", decision_tree_prediction2[0])\n",
    "\n"
   ]
  },
  {
   "cell_type": "code",
   "execution_count": null,
   "metadata": {},
   "outputs": [],
   "source": []
  }
 ],
 "metadata": {
  "kernelspec": {
   "display_name": "Python 3 (ipykernel)",
   "language": "python",
   "name": "python3"
  },
  "language_info": {
   "codemirror_mode": {
    "name": "ipython",
    "version": 3
   },
   "file_extension": ".py",
   "mimetype": "text/x-python",
   "name": "python",
   "nbconvert_exporter": "python",
   "pygments_lexer": "ipython3",
   "version": "3.11.5"
  }
 },
 "nbformat": 4,
 "nbformat_minor": 4
}
