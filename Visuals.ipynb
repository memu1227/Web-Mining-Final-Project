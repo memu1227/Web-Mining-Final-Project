{
 "cells": [
  {
   "cell_type": "code",
   "execution_count": null,
   "metadata": {},
   "outputs": [],
   "source": [
    "import matplotlib.pyplot as plt\n",
    "import seaborn as sns\n",
    "import pandas as pd\n",
    "\n",
    "# Read in data\n",
    "df = pd.read_csv('Womens Clothing E-Commerce Reviews.csv')\n",
    "\n",
    "# Age Distribution\n",
    "plt.figure(figsize=(10, 6))\n",
    "sns.histplot(df['Age'], bins=20, kde=True, color='skyblue')\n",
    "\n",
    "# Calculate the mean age\n",
    "average_age = df['Age'].mean()\n",
    "\n",
    "# Add a vertical line at the average age\n",
    "plt.axvline(x=average_age, color='red', linestyle='--', label=f'Average Age: {average_age:.2f}')\n",
    "\n",
    "\n",
    "plt.title('Age Distribution with Average Age Marked')\n",
    "plt.xlabel('Age')\n",
    "plt.ylabel('Frequency')\n",
    "plt.legend()\n",
    "plt.show()"
   ]
  },
  {
   "cell_type": "code",
   "execution_count": null,
   "metadata": {},
   "outputs": [],
   "source": [
    "#Distribution of Ratings\n",
    "sns.countplot(x='Rating', data=df)\n",
    "plt.title('Distribution of Ratings')\n",
    "plt.show()"
   ]
  },
  {
   "cell_type": "code",
   "execution_count": null,
   "metadata": {},
   "outputs": [],
   "source": [
    "# Count plots\n",
    "sns.countplot(x='Recommended IND', data=df)\n",
    "plt.title('Count of Recommendations')\n",
    "plt.show()"
   ]
  },
  {
   "cell_type": "code",
   "execution_count": null,
   "metadata": {},
   "outputs": [],
   "source": [
    "# Word cloud\n",
    "from wordcloud import WordCloud\n",
    "\n",
    "# Convert 'Review Text' to string and handle NaN values\n",
    "text_data = df['Review Text'].astype(str).fillna('')\n",
    "\n",
    "wordcloud = WordCloud(width=800, height=400, background_color='white').generate(' '.join(text_data))\n",
    "plt.figure(figsize=(10, 5))\n",
    "plt.imshow(wordcloud, interpolation='bilinear')\n",
    "plt.axis('off')\n",
    "plt.title('Word Cloud of Reviews')\n",
    "plt.show()"
   ]
  },
  {
   "cell_type": "code",
   "execution_count": null,
   "metadata": {},
   "outputs": [],
   "source": [
    "# Box plots\n",
    "sns.boxplot(x='Rating', y='Age', data=df)\n",
    "plt.title('Box Plot of Age by Rating')\n",
    "plt.show()"
   ]
  },
  {
   "cell_type": "code",
   "execution_count": null,
   "metadata": {},
   "outputs": [],
   "source": [
    "# Count plots for Division Name, Class Name, and Department Name\n",
    "plt.figure(figsize=(15, 5))\n",
    "\n",
    "plt.subplot(1, 3, 1)\n",
    "sns.countplot(y='Division Name', data=df, order=df['Division Name'].value_counts().index)\n",
    "plt.title('Count of Reviews by Division')\n",
    "\n",
    "plt.subplot(1, 3, 2)\n",
    "sns.countplot(y='Class Name', data=df, order=df['Class Name'].value_counts().index)\n",
    "plt.title('Count of Reviews by Class')\n",
    "\n",
    "plt.subplot(1, 3, 3)\n",
    "sns.countplot(y='Department Name', data=df, order=df['Department Name'].value_counts().index)\n",
    "plt.title('Count of Reviews by Department')\n",
    "\n",
    "plt.tight_layout()\n",
    "plt.show()"
   ]
  },
  {
   "cell_type": "code",
   "execution_count": null,
   "metadata": {},
   "outputs": [],
   "source": [
    "# Pie charts for Division Name, Class Name, and Department Name\n",
    "plt.figure(figsize=(15, 5))\n",
    "\n",
    "plt.subplot(1, 3, 1)\n",
    "df['Division Name'].value_counts().plot.pie(autopct='%1.1f%%')\n",
    "plt.title('Distribution of Reviews by Division')\n",
    "\n",
    "plt.subplot(1, 3, 2)\n",
    "df['Class Name'].value_counts().plot.pie(autopct='%1.1f%%')\n",
    "plt.title('Distribution of Reviews by Class')\n",
    "\n",
    "plt.subplot(1, 3, 3)\n",
    "df['Department Name'].value_counts().plot.pie(autopct='%1.1f%%')\n",
    "plt.title('Distribution of Reviews by Department')\n",
    "\n",
    "plt.tight_layout()\n",
    "plt.show()"
   ]
  }
 ],
 "metadata": {
  "kernelspec": {
   "display_name": "Python 3",
   "language": "python",
   "name": "python3"
  },
  "language_info": {
   "codemirror_mode": {
    "name": "ipython",
    "version": 3
   },
   "file_extension": ".py",
   "mimetype": "text/x-python",
   "name": "python",
   "nbconvert_exporter": "python",
   "pygments_lexer": "ipython3",
   "version": "3.11.5"
  },
  "orig_nbformat": 4
 },
 "nbformat": 4,
 "nbformat_minor": 2
}
